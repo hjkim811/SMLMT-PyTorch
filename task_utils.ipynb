{
 "cells": [
  {
   "cell_type": "markdown",
   "id": "d88fc4ca",
   "metadata": {},
   "source": [
    "### 이미 만들어진 task 파일에서 support set 줄이기"
   ]
  },
  {
   "cell_type": "markdown",
   "id": "15edfbb0",
   "metadata": {},
   "source": [
    "### Training Data"
   ]
  },
  {
   "cell_type": "code",
   "execution_count": 7,
   "id": "6d6c6a1a",
   "metadata": {},
   "outputs": [],
   "source": [
    "import json\n",
    "\n",
    "with open('task/task_laptop_random_5000_500_2_80_10.json', 'r') as fp:\n",
    "    laptop = json.load(fp)\n",
    "with open('task/task_rest_random_5000_500_2_80_10.json', 'r') as fp:\n",
    "    rest = json.load(fp)"
   ]
  },
  {
   "cell_type": "code",
   "execution_count": 8,
   "id": "19987648",
   "metadata": {},
   "outputs": [
    {
     "name": "stdout",
     "output_type": "stream",
     "text": [
      "5000\n",
      "5000\n"
     ]
    }
   ],
   "source": [
    "print(len(laptop))\n",
    "print(len(rest))"
   ]
  },
  {
   "cell_type": "code",
   "execution_count": 3,
   "id": "d3477f49",
   "metadata": {},
   "outputs": [],
   "source": [
    "num_support_old = 80 # 기존 support set 개수\n",
    "num_support_new = 10 # 새 support set 개수\n",
    "num_label = 2\n",
    "\n",
    "for task in laptop:\n",
    "    support = []\n",
    "    for j in range(num_label):\n",
    "        support.extend(task['support'][j*num_support_old:(j+1)*num_support_old][:num_support_new])\n",
    "    task['support'] = support\n",
    "with open(f'task/task_laptop_random_5000_500_2_10_10.json', 'w') as f: # input 파일명에서 support set 수만 바꿔주기\n",
    "    json.dump(laptop, f)\n",
    "    \n",
    "for task in rest:\n",
    "    support = []\n",
    "    for j in range(num_label):\n",
    "        support.extend(task['support'][j*num_support_old:(j+1)*num_support_old][:num_support_new])\n",
    "    task['support'] = support\n",
    "with open(f'task/task_rest_random_5000_500_2_10_10.json', 'w') as f: # input 파일명에서 support set 수만 바꿔주기\n",
    "    json.dump(rest, f)"
   ]
  },
  {
   "cell_type": "markdown",
   "id": "94eaf076",
   "metadata": {},
   "source": [
    "### Test Data"
   ]
  },
  {
   "cell_type": "code",
   "execution_count": 9,
   "id": "b8667e78",
   "metadata": {},
   "outputs": [],
   "source": [
    "# test 파일\n",
    "import json\n",
    "\n",
    "with open('task/task_laptop_random_10_500_2_80_10_test.json', 'r') as fp:\n",
    "    laptop = json.load(fp)\n",
    "with open('task/task_rest_random_10_500_2_80_10_test.json', 'r') as fp:\n",
    "    rest = json.load(fp)"
   ]
  },
  {
   "cell_type": "code",
   "execution_count": 10,
   "id": "c56672ba",
   "metadata": {},
   "outputs": [
    {
     "name": "stdout",
     "output_type": "stream",
     "text": [
      "10\n",
      "10\n"
     ]
    }
   ],
   "source": [
    "print(len(laptop))\n",
    "print(len(rest))"
   ]
  },
  {
   "cell_type": "code",
   "execution_count": 11,
   "id": "3f64239d",
   "metadata": {},
   "outputs": [],
   "source": [
    "num_support_old = 80 # 기존 support set 개수\n",
    "num_support_new = 10 # 새 support set 개수\n",
    "num_label = 2\n",
    "\n",
    "for task in laptop:\n",
    "    support = []\n",
    "    for j in range(num_label):\n",
    "        support.extend(task['support'][j*num_support_old:(j+1)*num_support_old][:num_support_new])\n",
    "    task['support'] = support\n",
    "with open(f'task/task_laptop_random_10_500_2_10_10_test.json', 'w') as f: # input 파일명에서 support set 수만 바꿔주기\n",
    "    json.dump(laptop, f)\n",
    "    \n",
    "for task in rest:\n",
    "    support = []\n",
    "    for j in range(num_label):\n",
    "        support.extend(task['support'][j*num_support_old:(j+1)*num_support_old][:num_support_new])\n",
    "    task['support'] = support\n",
    "with open(f'task/task_rest_random_10_500_2_10_10_test.json', 'w') as f: # input 파일명에서 support set 수만 바꿔주기\n",
    "    json.dump(rest, f)"
   ]
  },
  {
   "cell_type": "markdown",
   "id": "d205871c",
   "metadata": {},
   "source": [
    "### task 파일 여러 개 합치기"
   ]
  },
  {
   "cell_type": "code",
   "execution_count": 2,
   "id": "05db8766",
   "metadata": {},
   "outputs": [],
   "source": [
    "import json\n",
    "\n",
    "with open('task/task_rest_random_4000of10000_500_2_80_10_worker1.json', 'r') as fp:\n",
    "    task1 = json.load(fp)\n",
    "with open('task/task_rest_random_1000of10000_500_2_80_10_worker1.json', 'r') as fp:\n",
    "    task2 = json.load(fp)"
   ]
  },
  {
   "cell_type": "code",
   "execution_count": 3,
   "id": "d25f0e4d",
   "metadata": {},
   "outputs": [
    {
     "name": "stdout",
     "output_type": "stream",
     "text": [
      "4000\n",
      "1000\n"
     ]
    }
   ],
   "source": [
    "print(len(task1))\n",
    "print(len(task2))"
   ]
  },
  {
   "cell_type": "code",
   "execution_count": 6,
   "id": "5f6c7aae",
   "metadata": {},
   "outputs": [
    {
     "data": {
      "text/plain": [
       "5000"
      ]
     },
     "execution_count": 6,
     "metadata": {},
     "output_type": "execute_result"
    }
   ],
   "source": [
    "task_combined = task1 + task2\n",
    "len(task_combined)"
   ]
  },
  {
   "cell_type": "code",
   "execution_count": 7,
   "id": "c10c0a36",
   "metadata": {},
   "outputs": [],
   "source": [
    "with open(f'task/task_rest_random_5000_500_2_80_10.json', 'w') as f:\n",
    "    json.dump(task_combined, f)"
   ]
  }
 ],
 "metadata": {
  "kernelspec": {
   "display_name": "Python [conda env:absa] *",
   "language": "python",
   "name": "conda-env-absa-py"
  },
  "language_info": {
   "codemirror_mode": {
    "name": "ipython",
    "version": 3
   },
   "file_extension": ".py",
   "mimetype": "text/x-python",
   "name": "python",
   "nbconvert_exporter": "python",
   "pygments_lexer": "ipython3",
   "version": "3.6.9"
  }
 },
 "nbformat": 4,
 "nbformat_minor": 5
}
