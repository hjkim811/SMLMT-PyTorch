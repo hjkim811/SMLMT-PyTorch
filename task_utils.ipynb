{
 "cells": [
  {
   "cell_type": "markdown",
   "id": "d88fc4ca",
   "metadata": {},
   "source": [
    "## 이미 만들어진 task 파일에서 support set 줄이기"
   ]
  },
  {
   "cell_type": "markdown",
   "id": "9e447606",
   "metadata": {},
   "source": [
    "### Training Data"
   ]
  },
  {
   "cell_type": "code",
   "execution_count": 7,
   "id": "6d6c6a1a",
   "metadata": {},
   "outputs": [],
   "source": [
    "import json\n",
    "\n",
    "with open('task/task_laptop_random_5000_500_2_80_10.json', 'r') as fp:\n",
    "    laptop = json.load(fp)\n",
    "with open('task/task_rest_random_5000_500_2_80_10.json', 'r') as fp:\n",
    "    rest = json.load(fp)"
   ]
  },
  {
   "cell_type": "code",
   "execution_count": 8,
   "id": "19987648",
   "metadata": {},
   "outputs": [
    {
     "name": "stdout",
     "output_type": "stream",
     "text": [
      "5000\n",
      "5000\n"
     ]
    }
   ],
   "source": [
    "print(len(laptop))\n",
    "print(len(rest))"
   ]
  },
  {
   "cell_type": "code",
   "execution_count": 3,
   "id": "d3477f49",
   "metadata": {},
   "outputs": [],
   "source": [
    "num_support_old = 80 # 기존 support set 개수\n",
    "num_support_new = 10 # 새 support set 개수\n",
    "num_label = 2\n",
    "\n",
    "for task in laptop:\n",
    "    support = []\n",
    "    for j in range(num_label):\n",
    "        support.extend(task['support'][j*num_support_old:(j+1)*num_support_old][:num_support_new])\n",
    "    task['support'] = support\n",
    "with open(f'task/task_laptop_random_5000_500_2_10_10.json', 'w') as f: # input 파일명에서 support set 수만 바꿔주기\n",
    "    json.dump(laptop, f)\n",
    "    \n",
    "for task in rest:\n",
    "    support = []\n",
    "    for j in range(num_label):\n",
    "        support.extend(task['support'][j*num_support_old:(j+1)*num_support_old][:num_support_new])\n",
    "    task['support'] = support\n",
    "with open(f'task/task_rest_random_5000_500_2_10_10.json', 'w') as f: # input 파일명에서 support set 수만 바꿔주기\n",
    "    json.dump(rest, f)"
   ]
  },
  {
   "cell_type": "markdown",
   "id": "06a5e3bd",
   "metadata": {},
   "source": [
    "### Test Data"
   ]
  },
  {
   "cell_type": "code",
   "execution_count": 9,
   "id": "820b39b4",
   "metadata": {},
   "outputs": [],
   "source": [
    "# test 파일\n",
    "import json\n",
    "\n",
    "with open('task/task_laptop_random_10_500_2_80_10_test.json', 'r') as fp:\n",
    "    laptop = json.load(fp)\n",
    "with open('task/task_rest_random_10_500_2_80_10_test.json', 'r') as fp:\n",
    "    rest = json.load(fp)"
   ]
  },
  {
   "cell_type": "code",
   "execution_count": 10,
   "id": "4e552846",
   "metadata": {},
   "outputs": [
    {
     "name": "stdout",
     "output_type": "stream",
     "text": [
      "10\n",
      "10\n"
     ]
    }
   ],
   "source": [
    "print(len(laptop))\n",
    "print(len(rest))"
   ]
  },
  {
   "cell_type": "code",
   "execution_count": 11,
   "id": "7cf7f4c2",
   "metadata": {},
   "outputs": [],
   "source": [
    "num_support_old = 80 # 기존 support set 개수\n",
    "num_support_new = 10 # 새 support set 개수\n",
    "num_label = 2\n",
    "\n",
    "for task in laptop:\n",
    "    support = []\n",
    "    for j in range(num_label):\n",
    "        support.extend(task['support'][j*num_support_old:(j+1)*num_support_old][:num_support_new])\n",
    "    task['support'] = support\n",
    "with open(f'task/task_laptop_random_10_500_2_10_10_test.json', 'w') as f: # input 파일명에서 support set 수만 바꿔주기\n",
    "    json.dump(laptop, f)\n",
    "    \n",
    "for task in rest:\n",
    "    support = []\n",
    "    for j in range(num_label):\n",
    "        support.extend(task['support'][j*num_support_old:(j+1)*num_support_old][:num_support_new])\n",
    "    task['support'] = support\n",
    "with open(f'task/task_rest_random_10_500_2_10_10_test.json', 'w') as f: # input 파일명에서 support set 수만 바꿔주기\n",
    "    json.dump(rest, f)"
   ]
  },
  {
   "cell_type": "markdown",
   "id": "d205871c",
   "metadata": {},
   "source": [
    "## task 파일 여러 개 합치기"
   ]
  },
  {
   "cell_type": "code",
   "execution_count": 16,
   "id": "05db8766",
   "metadata": {},
   "outputs": [],
   "source": [
    "import json\n",
    "\n",
    "# with open('task/task_laptop_random_10000of10000_500_2_80_10_worker1.json', 'r') as fp:\n",
    "#     task1 = json.load(fp)\n",
    "# with open('task/task_laptop_random_10000of10000_500_2_80_10_worker2.json', 'r') as fp:\n",
    "#     task2 = json.load(fp)\n",
    "# with open('task/task_laptop_random_10000of10000_500_2_80_10_worker3.json', 'r') as fp:\n",
    "#     task3 = json.load(fp)\n",
    "# with open('task/task_laptop_random_10000of10000_500_2_80_10_worker4.json', 'r') as fp:\n",
    "#     task4 = json.load(fp)\n",
    "# with open('task/task_laptop_random_10000of10000_500_2_80_10_worker5.json', 'r') as fp:\n",
    "#     task5 = json.load(fp)\n",
    "    \n",
    "with open('task/task_rest_random_10000of10000_500_2_80_10_worker1.json', 'r') as fp:\n",
    "    task1 = json.load(fp)\n",
    "with open('task/task_rest_random_10000of10000_500_2_80_10_worker2.json', 'r') as fp:\n",
    "    task2 = json.load(fp)\n",
    "with open('task/task_rest_random_10000of10000_500_2_80_10_worker3.json', 'r') as fp:\n",
    "    task3 = json.load(fp)\n",
    "with open('task/task_rest_random_10000of10000_500_2_80_10_worker4.json', 'r') as fp:\n",
    "    task4 = json.load(fp)\n",
    "with open('task/task_rest_random_10000of10000_500_2_80_10_worker5.json', 'r') as fp:\n",
    "    task5 = json.load(fp)"
   ]
  },
  {
   "cell_type": "code",
   "execution_count": 17,
   "id": "d25f0e4d",
   "metadata": {},
   "outputs": [
    {
     "name": "stdout",
     "output_type": "stream",
     "text": [
      "10000\n",
      "10000\n",
      "10000\n",
      "10000\n",
      "10000\n"
     ]
    }
   ],
   "source": [
    "print(len(task1))\n",
    "print(len(task2))\n",
    "print(len(task3))\n",
    "print(len(task4))\n",
    "print(len(task5))"
   ]
  },
  {
   "cell_type": "code",
   "execution_count": 18,
   "id": "5f6c7aae",
   "metadata": {},
   "outputs": [
    {
     "data": {
      "text/plain": [
       "50000"
      ]
     },
     "execution_count": 18,
     "metadata": {},
     "output_type": "execute_result"
    }
   ],
   "source": [
    "task_combined = task1 + task2 + task3 + task4 + task5\n",
    "len(task_combined)"
   ]
  },
  {
   "cell_type": "code",
   "execution_count": 19,
   "id": "c10c0a36",
   "metadata": {},
   "outputs": [],
   "source": [
    "# with open(f'task/task_laptop_random_50000_500_2_80_10.json', 'w') as f:\n",
    "#     json.dump(task_combined, f)\n",
    "    \n",
    "with open(f'task/task_rest_random_50000_500_2_80_10.json', 'w') as f:\n",
    "    json.dump(task_combined, f)"
   ]
  },
  {
   "cell_type": "markdown",
   "id": "9eeb35d5",
   "metadata": {},
   "source": [
    "## 만들어진 task 개수 확인"
   ]
  },
  {
   "cell_type": "code",
   "execution_count": 104,
   "id": "f39b36d7",
   "metadata": {},
   "outputs": [],
   "source": [
    "import json\n",
    "\n",
    "with open('task/task_laptop_random_50000_500_2_10_10.json', 'r') as fp:\n",
    "    task1 = json.load(fp)\n",
    "with open('task/task_laptop_random_50000_500_3_10_10.json', 'r') as fp:\n",
    "    task2 = json.load(fp)\n",
    "with open('task/task_laptop_random_50000_500_4_10_10.json', 'r') as fp:\n",
    "    task3 = json.load(fp)\n",
    "with open('task/task_rest_random_50000_500_2_10_10.json', 'r') as fp:\n",
    "    task4 = json.load(fp)\n",
    "with open('task/task_rest_random_50000_500_3_10_10.json', 'r') as fp:\n",
    "    task5 = json.load(fp)\n",
    "with open('task/task_rest_random_50000_500_4_10_10.json', 'r') as fp:\n",
    "    task6 = json.load(fp)"
   ]
  },
  {
   "cell_type": "code",
   "execution_count": 105,
   "id": "c7547c65",
   "metadata": {},
   "outputs": [
    {
     "name": "stdout",
     "output_type": "stream",
     "text": [
      "50000\n",
      "50000\n",
      "50000\n",
      "50000\n",
      "50000\n",
      "50000\n"
     ]
    }
   ],
   "source": [
    "print(len(task1))\n",
    "print(len(task2))\n",
    "print(len(task3))\n",
    "print(len(task4))\n",
    "print(len(task5))\n",
    "print(len(task6))"
   ]
  },
  {
   "cell_type": "code",
   "execution_count": 8,
   "id": "4b080712",
   "metadata": {},
   "outputs": [
    {
     "data": {
      "text/plain": [
       "{'support': [{'text': \"You'd see the little [MASK] curser when using the two finger scrolling gesture, but nothing would happen.\",\n",
       "   'label': 0,\n",
       "   'word': 'scroll'},\n",
       "  {'text': 'I don\\'t like that don\\'t have the up/down [MASK] in the \"touch mouse\" Updated 3 years after purshase ...',\n",
       "   'label': 0,\n",
       "   'word': 'scroll'},\n",
       "  {'text': \"Zoom and [MASK] feature is awesome and I never have a problem with it unlike the other laptops I've had/used.\",\n",
       "   'label': 0,\n",
       "   'word': 'scroll'},\n",
       "  {'text': \"If you try to [MASK] with the touchpad, it will exit out of whatever page you're on, and it will randomly switch in and out of tablet mode and shut off the touchpad entirely.\",\n",
       "   'label': 0,\n",
       "   'word': 'scroll'},\n",
       "  {'text': '- The touchpad supports multitouch so you can easily zoom as well as [MASK] in any direction using 2 finger gestures.',\n",
       "   'label': 0,\n",
       "   'word': 'scroll'},\n",
       "  {'text': 'I can finally use two fingers to [MASK] all four directions.',\n",
       "   'label': 0,\n",
       "   'word': 'scroll'},\n",
       "  {'text': 'I really like the two-finger [MASK] feature.',\n",
       "   'label': 0,\n",
       "   'word': 'scroll'},\n",
       "  {'text': 'Various android tablets (the Slider was almost there but touching the screen to [MASK], small keyboard, and screen angle).',\n",
       "   'label': 0,\n",
       "   'word': 'scroll'},\n",
       "  {'text': 'As a result, you often find issues when you inadvertently leave two fingers on the trackpad (partially due to the strange placement) and try to move your cursor and instead zoom in or [MASK] down the page instead.',\n",
       "   'label': 0,\n",
       "   'word': 'scroll'},\n",
       "  {'text': 'The physical screen size is just fine, but the 1024x600 screen resolution makes it necessary to [MASK] around more than I would like--but this is just for activities away from my primary full-size desktop at home.',\n",
       "   'label': 0,\n",
       "   'word': 'scroll'},\n",
       "  {'text': 'I already had an Android phone which had replaced an iPhone 4, so neither of those [MASK] jumped out at me.',\n",
       "   'label': 1,\n",
       "   'word': 'OS'},\n",
       "  {'text': 'on how to wipe the Android [MASK] and start from scratch when I inquired about possibly installing a more conventional Linux distro on the machine.',\n",
       "   'label': 1,\n",
       "   'word': 'OS'},\n",
       "  {'text': 'I had my fill of Microsoft [MASK] or IE laying down everytime I turned around even though Chrome made a huge difference, or the Motherboard, or Hard Drive, or any one of the myriad of things that go awry with the compatibles.',\n",
       "   'label': 1,\n",
       "   'word': 'OS'},\n",
       "  {'text': 'It also launches into a non-Windows [MASK] when you first turn it on.',\n",
       "   'label': 1,\n",
       "   'word': 'OS'},\n",
       "  {'text': 'The display is awesome, and the [MASK] X operating system is enough to make me give XP the boot.',\n",
       "   'label': 1,\n",
       "   'word': 'OS'},\n",
       "  {'text': 'Exactly what it said it was .... Could use a bit more ram for the 64 bit [MASK]...',\n",
       "   'label': 1,\n",
       "   'word': 'OS'},\n",
       "  {'text': '* * * While not a review for the Windows 8 [MASK], it is relevant for this review because this is the [MASK] this machine was designed for and ships with * * * The ability to upgrade RAM and SSD was a huge selling point for me.',\n",
       "   'label': 1,\n",
       "   'word': 'OS'},\n",
       "  {'text': 'This time, however, I looked everywhere and could not find an eePC that had the same Linux [MASK], so I (with grave misgivings) purchase one running Vista.',\n",
       "   'label': 1,\n",
       "   'word': 'OS'},\n",
       "  {'text': 'I immediately bumped up the memory to 4gb to more take advantage of the included 64bit Windows 7 [MASK] and it is flying.',\n",
       "   'label': 1,\n",
       "   'word': 'OS'},\n",
       "  {'text': 'In a house that has just about every [MASK] in it, including Linux, Mac [MASK], IOS, Windows, etc, I find myself picking up this Chromebook more than any other thing.',\n",
       "   'label': 1,\n",
       "   'word': 'OS'},\n",
       "  {'text': \"It doesn't offer the capability to connect to networks via hardline and the [MASK] transceiver capability is abismal.\",\n",
       "   'label': 2,\n",
       "   'word': 'WiFi'},\n",
       "  {'text': 'Took it apart and cleaned the contacts to the [MASK] card, and that \"fix\" lasted three weeks or so.',\n",
       "   'label': 2,\n",
       "   'word': 'WiFi'},\n",
       "  {'text': '[MASK] and Bluetooth share the antennae.',\n",
       "   'label': 2,\n",
       "   'word': 'WiFi'},\n",
       "  {'text': '[MASK] works great!', 'label': 2, 'word': 'WiFi'},\n",
       "  {'text': 'In my travels I always seem to have access to a [MASK] network.',\n",
       "   'label': 2,\n",
       "   'word': 'WiFi'},\n",
       "  {'text': 'I have literally dozens of other [MASK] connected devices in the house - never have had this problem.',\n",
       "   'label': 2,\n",
       "   'word': 'WiFi'},\n",
       "  {'text': '(At home, a few feet from the [MASK] box, it has worked fine.)',\n",
       "   'label': 2,\n",
       "   'word': 'WiFi'},\n",
       "  {'text': \"Better than average [MASK] reception (sticker says 2x better) it's ~ the same as a Gateway netbook I have (4??\",\n",
       "   'label': 2,\n",
       "   'word': 'WiFi'},\n",
       "  {'text': \"The computer I got didn't have [MASK], just asked for a SIM card.\",\n",
       "   'label': 2,\n",
       "   'word': 'WiFi'},\n",
       "  {'text': \"You'll need a [MASK] adapter luckily I had one lying around and it works perfect.\",\n",
       "   'label': 2,\n",
       "   'word': 'WiFi'},\n",
       "  {'text': \"The sound and wireless cards are cheap, so you'll have problems in [MASK] with them (although they worked in windows).\",\n",
       "   'label': 3,\n",
       "   'word': 'linux'},\n",
       "  {'text': 'I am intending to install [MASK] on it and hopefully I can install VLC and other stuff.',\n",
       "   'label': 3,\n",
       "   'word': 'linux'},\n",
       "  {'text': 'Unfortunately, I have not been able to delete chrome and run [MASK] in its place, but the crouton + [MASK] approach is good enough at this point.',\n",
       "   'label': 3,\n",
       "   'word': 'linux'},\n",
       "  {'text': 'The architecture is based off of atom--clearly the reason [MASK] is picking up on this--but does not identify itself any differently from the standard atom stamped processors.',\n",
       "   'label': 3,\n",
       "   'word': 'linux'},\n",
       "  {'text': 'Lastly, I know nothing about the bloatware because I immediately wiped the hard drive and installed Ubuntu [MASK].',\n",
       "   'label': 3,\n",
       "   'word': 'linux'},\n",
       "  {'text': 'Works great running [MASK] as well.', 'label': 3, 'word': 'linux'},\n",
       "  {'text': \"I haven't installed Crouton yet but will shortly to see how it performs with [MASK] installed.\",\n",
       "   'label': 3,\n",
       "   'word': 'linux'},\n",
       "  {'text': 'Different flavors of [MASK] tried do not work very well and the flavor of [MASK] that does work well has issues with getting Chrome installed.',\n",
       "   'label': 3,\n",
       "   'word': 'linux'},\n",
       "  {'text': \"Getting into the bios is straight forward and simple so you can easily boot up a [MASK] distro (Ubuntu 14.04 ran into problems, booted fine, ran decent and then slowed to a crawl, Unity (Ubuntu's desktop enviorment) might ask too much of the hardware.\",\n",
       "   'label': 3,\n",
       "   'word': 'linux'},\n",
       "  {'text': 'The [MASK] distribution I am running is 14.04 Ubuntu XFCE.',\n",
       "   'label': 3,\n",
       "   'word': 'linux'}],\n",
       " 'query': [{'text': \"The trackpad is pretty glitchy - sometimes I can [MASK] with two fingers, sometimes I can't - and also feels cheap, with the buttons sometimes sticking when clicking.\",\n",
       "   'label': 0,\n",
       "   'word': 'scroll'},\n",
       "  {'text': 'What would have been better is a little manual [MASK] wheel on the side of the computer that would control the system volume.',\n",
       "   'label': 0,\n",
       "   'word': 'scroll'},\n",
       "  {'text': \"The only small complaint is that the finger [MASK] pad (not sure if that's the correct description) is very sensitive and it's easy to inadvertently move the pointer.\",\n",
       "   'label': 0,\n",
       "   'word': 'scroll'},\n",
       "  {'text': \"My other Microsoft mouse doesn't move the cursor far enough but the middle [MASK] wheel works great.\",\n",
       "   'label': 0,\n",
       "   'word': 'scroll'},\n",
       "  {'text': \"The multitouch trackpad let's you [MASK] with one finger on the very right side, but does not offer macbook style two finger scrolling like the older 1000HE models do which I was hoping for, but I got used to it.\",\n",
       "   'label': 0,\n",
       "   'word': 'scroll'},\n",
       "  {'text': 'Personally, my only issue with it is that there is no [MASK] setting on the mouse pad.',\n",
       "   'label': 0,\n",
       "   'word': 'scroll'},\n",
       "  {'text': \"We don't have a [MASK] bar down the side of the browsers like we do in Windows.\",\n",
       "   'label': 0,\n",
       "   'word': 'scroll'},\n",
       "  {'text': \"It's always a surprise...My biggest problem is that the touch and digitizer sensors don't work consistently all the way to the edge of the screen, which makes using [MASK] bars a major headache.\",\n",
       "   'label': 0,\n",
       "   'word': 'scroll'},\n",
       "  {'text': 'The guarantee is STILL THERE, just [MASK] to the bottom of the page <a data-hook=\" product-link-linked\" class=\" a-link-normal\" href=\" /B009LL9VDG/dp/B009LL9VDG/ref=cm_cr_arp_d_rvw_txt? ie=UTF8\"> B009LL9VDG </a> to read\" * Manufacturer Warranty Information: XE303C12-A01US - Parts: 12 months, Labor: 12 months\" B.S.',\n",
       "   'label': 0,\n",
       "   'word': 'scroll'},\n",
       "  {'text': 'the latest drivers reverses the two finger scrolling (mimicking how the macbooks two finger [MASK] is...which is what i want).',\n",
       "   'label': 0,\n",
       "   'word': 'scroll'},\n",
       "  {'text': 'The only thing that might be a problem for some people, is that the amount of software available for the Chrome [MASK], is less than what is available Windows, iOS, or Android.',\n",
       "   'label': 1,\n",
       "   'word': 'OS'},\n",
       "  {'text': \"These are able to run Snow Leopard ([MASK] X v10.6) which is still compatible with iTunes 11, Safari, Chrome, and most popular applications on the market today, even though it's from 2009.\",\n",
       "   'label': 1,\n",
       "   'word': 'OS'},\n",
       "  {'text': \"Next I re-installed Vista HP using my Vista Anytime Upgrade DVD - Vista drivers were easy to install (but they must be downloaded - irritatingly - Toshiba continues to send only restore disks with their laptops versus separate [MASK] and driver CD's like Dell provides).\",\n",
       "   'label': 1,\n",
       "   'word': 'OS'},\n",
       "  {'text': 'I can run a good [MASK], get multitouch, and maintain close to the same weight and size as my 10\" netbook.',\n",
       "   'label': 1,\n",
       "   'word': 'OS'},\n",
       "  {'text': 'After a year of heavy use we can say this about the Chrome [MASK] (COS) and the Samsung Chromebook Wi-Fi (CB): 1 Google thinks about the future and cares about the future of our planet.',\n",
       "   'label': 1,\n",
       "   'word': 'OS'},\n",
       "  {'text': \"Before buying this netbook I played with hexxeh's unofficial distro of Chrome [MASK] and it was easy to make necessary adjustments there, it also has Java, the middle-click was working as expected.\",\n",
       "   'label': 1,\n",
       "   'word': 'OS'},\n",
       "  {'text': '[MASK] verification is back on and Chromebook reboots automatically.',\n",
       "   'label': 1,\n",
       "   'word': 'OS'},\n",
       "  {'text': 'Even if OSX was not a nearly perfect [MASK] this laptop would be worth every penny just for the fact that it is not pre-loaded with Vista.',\n",
       "   'label': 1,\n",
       "   'word': 'OS'},\n",
       "  {'text': \"I was kind of iffy with the whole Google [MASK] thing but so far I have no ran into a website that I couldn't use.\",\n",
       "   'label': 1,\n",
       "   'word': 'OS'},\n",
       "  {'text': \"It's hard to fault [MASK] X in any way.\",\n",
       "   'label': 1,\n",
       "   'word': 'OS'},\n",
       "  {'text': 'It arrived today but I quickly found that its [MASK] did not work at all.',\n",
       "   'label': 2,\n",
       "   'word': 'WiFi'},\n",
       "  {'text': \"It's fast, has easy access to all Play Store items, connects to the school [MASK] without hassle (lots of kids in class can't say the same thing), works wonderful off line to work on documents and quickly and easily saves things to Google Drive without any type of hassle or hiccup.\",\n",
       "   'label': 2,\n",
       "   'word': 'WiFi'},\n",
       "  {'text': \"One of your [MASK] devices should probably be the new Time Capsule so you can quickly back-up the system since 80gb probably won't last long these days.\",\n",
       "   'label': 2,\n",
       "   'word': 'WiFi'},\n",
       "  {'text': \"Update Aug 25, 2014: Removed section about [MASK] trouble upon wakeup, as it's been a week of continued use since the August firmware updates, and I am yet to experience any further problems (happened daily before the updates), so cheers to that!\",\n",
       "   'label': 2,\n",
       "   'word': 'WiFi'},\n",
       "  {'text': 'The [MASK] connection on it would be okay for a while, but if I move to a different [MASK] server I would have to turn it off and turn it back on to connect.',\n",
       "   'label': 2,\n",
       "   'word': 'WiFi'},\n",
       "  {'text': \"If you travel for business, the Ethernet is a must - you just can't depend on hotels having [MASK] Cons The keyboard.\",\n",
       "   'label': 2,\n",
       "   'word': 'WiFi'},\n",
       "  {'text': 'By process of elimination, hardware has to be the issue for Optical Drive and [MASK] card.',\n",
       "   'label': 2,\n",
       "   'word': 'WiFi'},\n",
       "  {'text': \"My ONLY complaint (and it will only affect 1 out of 5)--> I use an AT & T Mecury 3G USB stick for connecting when there's no [MASK] and because of the recessed ports this one particular stick is too big to fit directly in.\",\n",
       "   'label': 2,\n",
       "   'word': 'WiFi'},\n",
       "  {'text': 'Decent computer but with a bunch of [MASK] problems.',\n",
       "   'label': 2,\n",
       "   'word': 'WiFi'},\n",
       "  {'text': 'Wireless The W100 includes both a [MASK] 802.11n and Bluetooth 2.1+EDR radio but the W100 proper, the Japanese version includes a WiMax radio.',\n",
       "   'label': 2,\n",
       "   'word': 'WiFi'},\n",
       "  {'text': 'Currently running [MASK] mint 18 & everything is working fine.',\n",
       "   'label': 3,\n",
       "   'word': 'linux'},\n",
       "  {'text': \"That was so easy it wasn't funny and i am not even a [MASK] person.\",\n",
       "   'label': 3,\n",
       "   'word': 'linux'},\n",
       "  {'text': 'Edge lacks extensions and other features and does not work on [MASK] or mac.',\n",
       "   'label': 3,\n",
       "   'word': 'linux'},\n",
       "  {'text': 'This is unsupported in [MASK] by Realtek, and the 8187 driver DOES NOT work with this card.',\n",
       "   'label': 3,\n",
       "   'word': 'linux'},\n",
       "  {'text': 'I develop software, primarily on [MASK], but needed to replace my 12 year old (!)',\n",
       "   'label': 3,\n",
       "   'word': 'linux'},\n",
       "  {'text': 'If I am needing to do real work on the road, my 15\" Retina Macbook Pro is coming along...but, with full [MASK], I could do everything I absolutely need to for work on this.',\n",
       "   'label': 3,\n",
       "   'word': 'linux'},\n",
       "  {'text': 'Even without a [MASK] install (which is super easy with this gen of chromebook) this is a very productive device.',\n",
       "   'label': 3,\n",
       "   'word': 'linux'},\n",
       "  {'text': \"My experience: I'm a [MASK] tinker of over 2 years, I know how to edit config files and use the command line intermediately, but not like a true * nix nerd.\",\n",
       "   'label': 3,\n",
       "   'word': 'linux'},\n",
       "  {'text': 'I have [MASK] OS overlaid with Chrome OS which gives great versatility.',\n",
       "   'label': 3,\n",
       "   'word': 'linux'},\n",
       "  {'text': 'Most trackpads seem to be supported by the Synaptic support in many [MASK] distros, but the trackpad in this laptop is not.',\n",
       "   'label': 3,\n",
       "   'word': 'linux'}],\n",
       " 'similarity': '0.3287'}"
      ]
     },
     "execution_count": 8,
     "metadata": {},
     "output_type": "execute_result"
    }
   ],
   "source": [
    "task3[1000]"
   ]
  },
  {
   "cell_type": "markdown",
   "id": "e0a05b8f",
   "metadata": {},
   "source": [
    "## Curriculum mode로 생성한 task를 random mode로 변환\n",
    "- 'similarity' 제거하기\n",
    "- 순서 랜덤하게 섞기"
   ]
  },
  {
   "cell_type": "code",
   "execution_count": 108,
   "id": "36347b4c",
   "metadata": {},
   "outputs": [],
   "source": [
    "import json\n",
    "\n",
    "with open('task/task_laptop_curriculum_50000_500_2_10_10.json', 'r') as fp:\n",
    "    task1 = json.load(fp)\n",
    "with open('task/task_laptop_curriculum_50000_500_3_10_10.json', 'r') as fp:\n",
    "    task2 = json.load(fp)\n",
    "with open('task/task_laptop_curriculum_50000_500_4_10_10.json', 'r') as fp:\n",
    "    task3 = json.load(fp)\n",
    "with open('task/task_rest_curriculum_50000_500_2_10_10.json', 'r') as fp:\n",
    "    task4 = json.load(fp)\n",
    "with open('task/task_rest_curriculum_50000_500_3_10_10.json', 'r') as fp:\n",
    "    task5 = json.load(fp)\n",
    "with open('task/task_rest_curriculum_50000_500_4_10_10.json', 'r') as fp:\n",
    "    task6 = json.load(fp)"
   ]
  },
  {
   "cell_type": "code",
   "execution_count": 103,
   "id": "d3280210",
   "metadata": {
    "scrolled": true
   },
   "outputs": [],
   "source": [
    "task_file = task6\n",
    "new_file_name = 'task_rest_random_50000_500_4_10_10.json' # .json까지 / 기존 파일명에서 curriculum만 random으로 바꿔주기\n",
    "seed = 42\n",
    "\n",
    "# similarity 제거\n",
    "for task in task_file:\n",
    "    del task['similarity']\n",
    "\n",
    "# random하게 shuffle\n",
    "import random\n",
    "random.Random(seed).shuffle(task_file)\n",
    "\n",
    "# 새로운 파일로 저장\n",
    "with open(f'task/{new_file_name}', 'w') as f:\n",
    "    json.dump(task_file, f)"
   ]
  }
 ],
 "metadata": {
  "kernelspec": {
   "display_name": "Python [conda env:absa] *",
   "language": "python",
   "name": "conda-env-absa-py"
  },
  "language_info": {
   "codemirror_mode": {
    "name": "ipython",
    "version": 3
   },
   "file_extension": ".py",
   "mimetype": "text/x-python",
   "name": "python",
   "nbconvert_exporter": "python",
   "pygments_lexer": "ipython3",
   "version": "3.6.9"
  }
 },
 "nbformat": 4,
 "nbformat_minor": 5
}
