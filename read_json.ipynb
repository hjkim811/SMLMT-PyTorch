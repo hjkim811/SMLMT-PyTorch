{
 "cells": [
  {
   "cell_type": "code",
   "execution_count": 1,
   "id": "512c312d",
   "metadata": {},
   "outputs": [],
   "source": [
    "import json\n",
    "\n",
    "with open('dataset.json', 'r') as fp:\n",
    "    data = json.load(fp)"
   ]
  },
  {
   "cell_type": "code",
   "execution_count": 2,
   "id": "335e300e",
   "metadata": {},
   "outputs": [
    {
     "data": {
      "text/plain": [
       "21855"
      ]
     },
     "execution_count": 2,
     "metadata": {},
     "output_type": "execute_result"
    }
   ],
   "source": [
    "len(data)"
   ]
  },
  {
   "cell_type": "code",
   "execution_count": 13,
   "id": "737cb767",
   "metadata": {},
   "outputs": [
    {
     "data": {
      "text/plain": [
       "{'text': \"GOOD LOOKING KICKS IF YOUR KICKIN IT OLD SCHOOL LIKE ME. AND COMFORTABLE. AND RELATIVELY CHEAP. I'LL ALWAYS KEEP A PAIR OF STAN SMITH'S AROUND FOR WEEKENDS\",\n",
       " 'label': 'positive',\n",
       " 'domain': 'apparel'}"
      ]
     },
     "execution_count": 13,
     "metadata": {},
     "output_type": "execute_result"
    }
   ],
   "source": [
    "data[0]"
   ]
  },
  {
   "cell_type": "code",
   "execution_count": 6,
   "id": "70ebde67",
   "metadata": {},
   "outputs": [
    {
     "data": {
      "text/plain": [
       "{'apparel',\n",
       " 'automotive',\n",
       " 'baby',\n",
       " 'beauty',\n",
       " 'books',\n",
       " 'camera_&_photo',\n",
       " 'cell_phones_&_service',\n",
       " 'computer_&_video_games',\n",
       " 'dvd',\n",
       " 'electronics',\n",
       " 'grocery',\n",
       " 'health_&_personal_care',\n",
       " 'jewelry_&_watches',\n",
       " 'kitchen_&_housewares',\n",
       " 'magazines',\n",
       " 'music',\n",
       " 'office_products',\n",
       " 'outdoor_living',\n",
       " 'software',\n",
       " 'sports_&_outdoors',\n",
       " 'toys_&_games',\n",
       " 'video'}"
      ]
     },
     "execution_count": 6,
     "metadata": {},
     "output_type": "execute_result"
    }
   ],
   "source": [
    "domains = [i['domain'] for i in data]\n",
    "set(domains)"
   ]
  }
 ],
 "metadata": {
  "kernelspec": {
   "display_name": "Python [conda env:meta-bert]",
   "language": "python",
   "name": "conda-env-meta-bert-py"
  },
  "language_info": {
   "codemirror_mode": {
    "name": "ipython",
    "version": 3
   },
   "file_extension": ".py",
   "mimetype": "text/x-python",
   "name": "python",
   "nbconvert_exporter": "python",
   "pygments_lexer": "ipython3",
   "version": "3.8.0"
  }
 },
 "nbformat": 4,
 "nbformat_minor": 5
}
