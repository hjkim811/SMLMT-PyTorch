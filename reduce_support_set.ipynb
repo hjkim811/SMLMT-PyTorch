{
 "cells": [
  {
   "cell_type": "markdown",
   "id": "d88fc4ca",
   "metadata": {},
   "source": [
    "### 이미 만들어진 task 파일에서 support set 줄이기"
   ]
  },
  {
   "cell_type": "code",
   "execution_count": 99,
   "id": "6d6c6a1a",
   "metadata": {},
   "outputs": [],
   "source": [
    "import json\n",
    "\n",
    "with open('task/task_laptop_random_10_500_3_80_10_test.json', 'r') as fp:\n",
    "    laptop = json.load(fp)\n",
    "with open('task/task_rest_random_10_500_3_80_10_test.json', 'r') as fp:\n",
    "    rest = json.load(fp)"
   ]
  },
  {
   "cell_type": "code",
   "execution_count": 100,
   "id": "d3477f49",
   "metadata": {},
   "outputs": [],
   "source": [
    "task_num = 1000\n",
    "num_support_old = 80 # 기존 support set 개수\n",
    "num_support_new = 40 # 새 support set 개수\n",
    "num_label = 3\n",
    "\n",
    "for task in laptop:\n",
    "    support = []\n",
    "    for j in range(num_label):\n",
    "        support.extend(task['support'][j*num_support_old:(j+1)*num_support_old][:num_support_new])\n",
    "    task['support'] = support\n",
    "with open(f'task/task_laptop_random_10_500_3_40_10_test.json', 'w') as f: # input 파일명에서 support set 수만 바꿔주기\n",
    "    json.dump(laptop, f)\n",
    "    \n",
    "for task in rest:\n",
    "    support = []\n",
    "    for j in range(num_label):\n",
    "        support.extend(task['support'][j*num_support_old:(j+1)*num_support_old][:num_support_new])\n",
    "    task['support'] = support\n",
    "with open(f'task/task_rest_random_10_500_3_40_10_test.json', 'w') as f: # input 파일명에서 support set 수만 바꿔주기\n",
    "    json.dump(rest, f)"
   ]
  }
 ],
 "metadata": {
  "kernelspec": {
   "display_name": "Python [conda env:absa] *",
   "language": "python",
   "name": "conda-env-absa-py"
  },
  "language_info": {
   "codemirror_mode": {
    "name": "ipython",
    "version": 3
   },
   "file_extension": ".py",
   "mimetype": "text/x-python",
   "name": "python",
   "nbconvert_exporter": "python",
   "pygments_lexer": "ipython3",
   "version": "3.6.9"
  }
 },
 "nbformat": 4,
 "nbformat_minor": 5
}
