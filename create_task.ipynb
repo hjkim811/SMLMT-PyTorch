{
 "cells": [
  {
   "cell_type": "code",
   "execution_count": 1,
   "id": "81b7bb56",
   "metadata": {},
   "outputs": [],
   "source": [
    "from create_task import *"
   ]
  },
  {
   "cell_type": "code",
   "execution_count": 2,
   "id": "0cf2edba",
   "metadata": {},
   "outputs": [],
   "source": [
    "with open('dataset/amazon_laptop_sent.json', 'r') as f: laptop = json.load(f)\n",
    "with open('dataset/amazon_laptop_vocab.json', 'r') as f: laptop_vocab = json.load(f)\n",
    "with open('dataset/yelp_rest_sent.json', 'r') as f: rest = json.load(f)\n",
    "with open('dataset/yelp_rest_vocab.json', 'r') as f: rest_vocab = json.load(f)"
   ]
  },
  {
   "cell_type": "code",
   "execution_count": 3,
   "id": "d7b07bee",
   "metadata": {},
   "outputs": [
    {
     "name": "stdout",
     "output_type": "stream",
     "text": [
      "2593\n",
      "3079\n"
     ]
    }
   ],
   "source": [
    "# 특정 빈도수 이하의 단어는 제거\n",
    "# 최소 빈도수에 따른 vocab 수 그래프 그려보기?\n",
    "\n",
    "min_freq = 500 # SMLMT 논문에서는 50 사용\n",
    "\n",
    "laptop_vocab_freq = [tup for tup in laptop_vocab if tup[1]>=min_freq]\n",
    "rest_vocab_freq = [tup for tup in rest_vocab if tup[1]>=min_freq]\n",
    "\n",
    "print(len(laptop_vocab_freq))\n",
    "print(len(rest_vocab_freq))"
   ]
  },
  {
   "cell_type": "markdown",
   "id": "2d74743f",
   "metadata": {},
   "source": [
    "## Sample vocab randomly"
   ]
  },
  {
   "cell_type": "markdown",
   "id": "073ef03a",
   "metadata": {},
   "source": [
    "#### Task 1개 생성 소요 시간\n",
    "- n = 3, k = 80, q = 10, min_freq = 100 : 3분 45초\n",
    "- n = 3, k = 80, q = 10, min_freq = 500 : 4분 6초 / 5 = 약 50초\n",
    "\n",
    "#### To-Do\n",
    "- domain = 'laptop', n = 2, min_freq = 500, num_task = 1000\n",
    "- domain = 'laptop', n = 3, min_freq = 500, num_task = 1000\n",
    "- domain = 'rest', n = 2, min_freq = 500, num_task = 1000\n",
    "- domain = 'rest', n = 3, min_freq = 500, num_task = 1000\n",
    "\n",
    "num_task = 1000일 때 예상 소요 시간: 13~14시간"
   ]
  },
  {
   "cell_type": "code",
   "execution_count": 4,
   "id": "0fceef74",
   "metadata": {},
   "outputs": [],
   "source": [
    "domain = 'laptop'\n",
    "mode = 'random'\n",
    "num_task = 1000\n",
    "n = 2\n",
    "num_support = 80\n",
    "num_query = 10\n",
    "\n",
    "if domain == 'laptop':\n",
    "    vocab = laptop_vocab_freq\n",
    "    corpus = laptop\n",
    "elif domain == 'rest':\n",
    "    vocab = rest_vocab_freq\n",
    "    corpus = rest"
   ]
  },
  {
   "cell_type": "code",
   "execution_count": null,
   "id": "00cb7d2f",
   "metadata": {
    "scrolled": true
   },
   "outputs": [
    {
     "data": {
      "application/vnd.jupyter.widget-view+json": {
       "model_id": "c3621a6852c849f69050545c0dcb9955",
       "version_major": 2,
       "version_minor": 0
      },
      "text/plain": [
       "  0%|          | 0/1000 [00:00<?, ?it/s]"
      ]
     },
     "metadata": {},
     "output_type": "display_data"
    }
   ],
   "source": [
    "%%time\n",
    "tasks = []\n",
    "for comb in tqdm(vocab_sampler([tup[0] for tup in vocab], n, num_task, mode)):\n",
    "    tasks.append(create_task(comb, corpus, num_support, num_query))\n",
    "    \n",
    "with open(f'dataset/task_{domain}_{mode}_{num_task}_{min_freq}_{n}_{num_support}_{num_query}.json', 'w') as f:\n",
    "    json.dump(tasks, f)"
   ]
  }
 ],
 "metadata": {
  "kernelspec": {
   "display_name": "Python [conda env:meta-bert]",
   "language": "python",
   "name": "conda-env-meta-bert-py"
  },
  "language_info": {
   "codemirror_mode": {
    "name": "ipython",
    "version": 3
   },
   "file_extension": ".py",
   "mimetype": "text/x-python",
   "name": "python",
   "nbconvert_exporter": "python",
   "pygments_lexer": "ipython3",
   "version": "3.8.0"
  }
 },
 "nbformat": 4,
 "nbformat_minor": 5
}
